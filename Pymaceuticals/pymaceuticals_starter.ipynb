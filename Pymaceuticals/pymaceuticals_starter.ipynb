{
 "cells": [
  {
   "cell_type": "markdown",
   "metadata": {},
   "source": [
    "## Observations and Insights"
   ]
  },
  {
   "cell_type": "markdown",
   "metadata": {},
   "source": [
    "1) Ramicane and Capomulin are the drug regimens most used and the ones with the lowest average of tumor size treated\n",
    "2) Capomulin seem pretty efective reducing the size of tumors at arounf 50% in some cases\n",
    "3) Evaluating the mouses treated with Capomulin, we can observe that there is a relationship between the weight of the mouse and the Volume of the tumor. The bigger themouse the bigger tumor's volume. "
   ]
  },
  {
   "cell_type": "markdown",
   "metadata": {},
   "source": [
    "## Dependencies and starter code"
   ]
  },
  {
   "cell_type": "code",
   "execution_count": 2,
   "metadata": {},
   "outputs": [
    {
     "data": {
      "text/html": [
       "<div>\n",
       "<style scoped>\n",
       "    .dataframe tbody tr th:only-of-type {\n",
       "        vertical-align: middle;\n",
       "    }\n",
       "\n",
       "    .dataframe tbody tr th {\n",
       "        vertical-align: top;\n",
       "    }\n",
       "\n",
       "    .dataframe thead th {\n",
       "        text-align: right;\n",
       "    }\n",
       "</style>\n",
       "<table border=\"1\" class=\"dataframe\">\n",
       "  <thead>\n",
       "    <tr style=\"text-align: right;\">\n",
       "      <th></th>\n",
       "      <th>Mouse ID</th>\n",
       "      <th>Drug Regimen</th>\n",
       "      <th>Sex</th>\n",
       "      <th>Age_months</th>\n",
       "      <th>Weight (g)</th>\n",
       "      <th>Timepoint</th>\n",
       "      <th>Tumor Volume (mm3)</th>\n",
       "      <th>Metastatic Sites</th>\n",
       "    </tr>\n",
       "  </thead>\n",
       "  <tbody>\n",
       "    <tr>\n",
       "      <td>0</td>\n",
       "      <td>k403</td>\n",
       "      <td>Ramicane</td>\n",
       "      <td>Male</td>\n",
       "      <td>21</td>\n",
       "      <td>16</td>\n",
       "      <td>0</td>\n",
       "      <td>45.000000</td>\n",
       "      <td>0</td>\n",
       "    </tr>\n",
       "    <tr>\n",
       "      <td>1</td>\n",
       "      <td>k403</td>\n",
       "      <td>Ramicane</td>\n",
       "      <td>Male</td>\n",
       "      <td>21</td>\n",
       "      <td>16</td>\n",
       "      <td>5</td>\n",
       "      <td>38.825898</td>\n",
       "      <td>0</td>\n",
       "    </tr>\n",
       "    <tr>\n",
       "      <td>2</td>\n",
       "      <td>k403</td>\n",
       "      <td>Ramicane</td>\n",
       "      <td>Male</td>\n",
       "      <td>21</td>\n",
       "      <td>16</td>\n",
       "      <td>10</td>\n",
       "      <td>35.014271</td>\n",
       "      <td>1</td>\n",
       "    </tr>\n",
       "    <tr>\n",
       "      <td>3</td>\n",
       "      <td>k403</td>\n",
       "      <td>Ramicane</td>\n",
       "      <td>Male</td>\n",
       "      <td>21</td>\n",
       "      <td>16</td>\n",
       "      <td>15</td>\n",
       "      <td>34.223992</td>\n",
       "      <td>1</td>\n",
       "    </tr>\n",
       "    <tr>\n",
       "      <td>4</td>\n",
       "      <td>k403</td>\n",
       "      <td>Ramicane</td>\n",
       "      <td>Male</td>\n",
       "      <td>21</td>\n",
       "      <td>16</td>\n",
       "      <td>20</td>\n",
       "      <td>32.997729</td>\n",
       "      <td>1</td>\n",
       "    </tr>\n",
       "  </tbody>\n",
       "</table>\n",
       "</div>"
      ],
      "text/plain": [
       "  Mouse ID Drug Regimen   Sex  Age_months  Weight (g)  Timepoint  \\\n",
       "0     k403     Ramicane  Male          21          16          0   \n",
       "1     k403     Ramicane  Male          21          16          5   \n",
       "2     k403     Ramicane  Male          21          16         10   \n",
       "3     k403     Ramicane  Male          21          16         15   \n",
       "4     k403     Ramicane  Male          21          16         20   \n",
       "\n",
       "   Tumor Volume (mm3)  Metastatic Sites  \n",
       "0           45.000000                 0  \n",
       "1           38.825898                 0  \n",
       "2           35.014271                 1  \n",
       "3           34.223992                 1  \n",
       "4           32.997729                 1  "
      ]
     },
     "execution_count": 2,
     "metadata": {},
     "output_type": "execute_result"
    }
   ],
   "source": [
    "# Dependencies and Setup\n",
    "import matplotlib.pyplot as plt\n",
    "import pandas as pd\n",
    "import scipy.stats as st\n",
    "import numpy as np\n",
    "from scipy.stats import linregress\n",
    "# Study data files\n",
    "mouse_metadata = \"data/Mouse_metadata.csv\"\n",
    "study_results = \"data/Study_results.csv\"\n",
    "\n",
    "# Read the mouse data and the study results\n",
    "mouse_metadata = pd.read_csv(mouse_metadata)\n",
    "study_results = pd.read_csv(study_results)\n",
    "\n",
    "# Combine the data into a single dataset\n",
    "merge_table = pd.merge(mouse_metadata, study_results, on=\"Mouse ID\")\n",
    "merge_table.head()"
   ]
  },
  {
   "cell_type": "markdown",
   "metadata": {},
   "source": [
    "## Summary statistics"
   ]
  },
  {
   "cell_type": "code",
   "execution_count": 3,
   "metadata": {},
   "outputs": [],
   "source": [
    "\n",
    "Drug_List = merge_table['Drug Regimen'].unique()\n",
    "Drug_list=Drug_List.tolist()\n"
   ]
  },
  {
   "cell_type": "code",
   "execution_count": 4,
   "metadata": {},
   "outputs": [
    {
     "data": {
      "text/html": [
       "<div>\n",
       "<style scoped>\n",
       "    .dataframe tbody tr th:only-of-type {\n",
       "        vertical-align: middle;\n",
       "    }\n",
       "\n",
       "    .dataframe tbody tr th {\n",
       "        vertical-align: top;\n",
       "    }\n",
       "\n",
       "    .dataframe thead th {\n",
       "        text-align: right;\n",
       "    }\n",
       "</style>\n",
       "<table border=\"1\" class=\"dataframe\">\n",
       "  <thead>\n",
       "    <tr style=\"text-align: right;\">\n",
       "      <th></th>\n",
       "      <th>Drug Regimen</th>\n",
       "      <th>Mean</th>\n",
       "      <th>Median</th>\n",
       "      <th>Variance</th>\n",
       "      <th>Standard Deviation</th>\n",
       "      <th>SEM</th>\n",
       "    </tr>\n",
       "  </thead>\n",
       "  <tbody>\n",
       "    <tr>\n",
       "      <td>0</td>\n",
       "      <td>Ramicane</td>\n",
       "      <td>40.216745</td>\n",
       "      <td>40.673236</td>\n",
       "      <td>23.383692</td>\n",
       "      <td>4.835669</td>\n",
       "      <td>0.320250</td>\n",
       "    </tr>\n",
       "    <tr>\n",
       "      <td>1</td>\n",
       "      <td>Capomulin</td>\n",
       "      <td>40.675741</td>\n",
       "      <td>41.557809</td>\n",
       "      <td>24.839296</td>\n",
       "      <td>4.983904</td>\n",
       "      <td>0.328629</td>\n",
       "    </tr>\n",
       "    <tr>\n",
       "      <td>2</td>\n",
       "      <td>Infubinol</td>\n",
       "      <td>52.884795</td>\n",
       "      <td>51.820584</td>\n",
       "      <td>42.886388</td>\n",
       "      <td>6.548770</td>\n",
       "      <td>0.490851</td>\n",
       "    </tr>\n",
       "    <tr>\n",
       "      <td>3</td>\n",
       "      <td>Placebo</td>\n",
       "      <td>54.033581</td>\n",
       "      <td>52.288934</td>\n",
       "      <td>60.830138</td>\n",
       "      <td>7.799368</td>\n",
       "      <td>0.579722</td>\n",
       "    </tr>\n",
       "    <tr>\n",
       "      <td>4</td>\n",
       "      <td>Ceftamin</td>\n",
       "      <td>52.591172</td>\n",
       "      <td>51.776157</td>\n",
       "      <td>39.069446</td>\n",
       "      <td>6.250556</td>\n",
       "      <td>0.468499</td>\n",
       "    </tr>\n",
       "    <tr>\n",
       "      <td>5</td>\n",
       "      <td>Stelasyn</td>\n",
       "      <td>54.233149</td>\n",
       "      <td>52.431737</td>\n",
       "      <td>59.122106</td>\n",
       "      <td>7.689090</td>\n",
       "      <td>0.571526</td>\n",
       "    </tr>\n",
       "    <tr>\n",
       "      <td>6</td>\n",
       "      <td>Zoniferol</td>\n",
       "      <td>53.236507</td>\n",
       "      <td>51.818479</td>\n",
       "      <td>48.266689</td>\n",
       "      <td>6.947423</td>\n",
       "      <td>0.514977</td>\n",
       "    </tr>\n",
       "    <tr>\n",
       "      <td>7</td>\n",
       "      <td>Ketapril</td>\n",
       "      <td>55.235638</td>\n",
       "      <td>53.698743</td>\n",
       "      <td>68.188930</td>\n",
       "      <td>8.257659</td>\n",
       "      <td>0.602252</td>\n",
       "    </tr>\n",
       "    <tr>\n",
       "      <td>8</td>\n",
       "      <td>Propriva</td>\n",
       "      <td>52.322552</td>\n",
       "      <td>50.854632</td>\n",
       "      <td>42.088020</td>\n",
       "      <td>6.487528</td>\n",
       "      <td>0.511289</td>\n",
       "    </tr>\n",
       "    <tr>\n",
       "      <td>9</td>\n",
       "      <td>Naftisol</td>\n",
       "      <td>54.331565</td>\n",
       "      <td>52.509285</td>\n",
       "      <td>65.817708</td>\n",
       "      <td>8.112811</td>\n",
       "      <td>0.594860</td>\n",
       "    </tr>\n",
       "  </tbody>\n",
       "</table>\n",
       "</div>"
      ],
      "text/plain": [
       "  Drug Regimen       Mean     Median   Variance  Standard Deviation       SEM\n",
       "0     Ramicane  40.216745  40.673236  23.383692            4.835669  0.320250\n",
       "1    Capomulin  40.675741  41.557809  24.839296            4.983904  0.328629\n",
       "2    Infubinol  52.884795  51.820584  42.886388            6.548770  0.490851\n",
       "3      Placebo  54.033581  52.288934  60.830138            7.799368  0.579722\n",
       "4     Ceftamin  52.591172  51.776157  39.069446            6.250556  0.468499\n",
       "5     Stelasyn  54.233149  52.431737  59.122106            7.689090  0.571526\n",
       "6    Zoniferol  53.236507  51.818479  48.266689            6.947423  0.514977\n",
       "7     Ketapril  55.235638  53.698743  68.188930            8.257659  0.602252\n",
       "8     Propriva  52.322552  50.854632  42.088020            6.487528  0.511289\n",
       "9     Naftisol  54.331565  52.509285  65.817708            8.112811  0.594860"
      ]
     },
     "execution_count": 4,
     "metadata": {},
     "output_type": "execute_result"
    }
   ],
   "source": [
    "\n",
    "# Generate a summary statistics table of mean, median, variance,standard deviation and SEM of the tumor volume for each regimen\n",
    "\n",
    "mean_list = []\n",
    "median_list = []\n",
    "var_list = []\n",
    "sem_list = []\n",
    "sd_list= []\n",
    "\n",
    "for drug in Drug_List:\n",
    "    \n",
    "    Tumor_Volume = merge_table.loc[(merge_table[\"Drug Regimen\"]==drug),:]\n",
    "    Tumor_Volume = Tumor_Volume[\"Tumor Volume (mm3)\"]   \n",
    "    mean_numpy = np.mean(Tumor_Volume)\n",
    "    median_numpy = np.median(Tumor_Volume)\n",
    "    var_numpy = np.var(Tumor_Volume,ddof = 0)\n",
    "    sd_numpy = np.std(Tumor_Volume,ddof = 0)\n",
    "    sem_scipy = st.sem(Tumor_Volume, axis=None, ddof=0)\n",
    "    \n",
    "    mean_list.append(mean_numpy)\n",
    "    median_list.append(median_numpy)\n",
    "    var_list.append(var_numpy)\n",
    "    sd_list.append(sd_numpy)\n",
    "    sem_list.append(sem_scipy)\n",
    "    \n",
    " \n",
    "Summary_dict = {\n",
    "    \"Drug Regimen\" : Drug_List,\n",
    "    \"Mean\":mean_list ,\n",
    "    \"Median\":median_list,\n",
    "    \"Variance\":var_list,\n",
    "    \"Standard Deviation\":sd_list,\n",
    "    \"SEM\":sem_list\n",
    "}\n",
    "\n",
    "Summary_data = pd.DataFrame(Summary_dict)\n",
    "Summary_data\n",
    "  \n",
    "\n"
   ]
  },
  {
   "cell_type": "markdown",
   "metadata": {},
   "source": [
    "## Bar plots"
   ]
  },
  {
   "cell_type": "code",
   "execution_count": 5,
   "metadata": {},
   "outputs": [
    {
     "data": {
      "image/png": "[encoded data removed]",
      "text/plain": [
       "<Figure size 720x360 with 1 Axes>"
      ]
     },
     "metadata": {
      "needs_background": "light"
     },
     "output_type": "display_data"
    },
    {
     "data": {
      "text/plain": [
       "<Figure size 432x288 with 0 Axes>"
      ]
     },
     "metadata": {},
     "output_type": "display_data"
    }
   ],
   "source": [
    "# Generate a bar plot showing number of data points for each treatment regimen using pandas\n",
    "Treatment_Group = merge_table.groupby([\"Drug Regimen\"])\n",
    "Regimen_data = Treatment_Group[\"Mouse ID\"].count()\n",
    "Regimen_data_df = pd.DataFrame({\"Treatment Count\":Regimen_data})\n",
    "Regimen_data_df.plot(kind=\"bar\", figsize=(10,5))\n",
    "plt.title(\"Data Points for Each Regimen\")\n",
    "plt.ylabel(\"Treaments Count\")\n",
    "plt.savefig(\"../Images/Data_per_Regimen1.png\")\n",
    "plt.show()\n",
    "plt.tight_layout()\n"
   ]
  },
  {
   "cell_type": "code",
   "execution_count": 8,
   "metadata": {},
   "outputs": [
    {
     "data": {
      "image/png": "[encoded data removed]",
      "text/plain": [
       "<Figure size 720x360 with 1 Axes>"
      ]
     },
     "metadata": {
      "needs_background": "light"
     },
     "output_type": "display_data"
    }
   ],
   "source": [
    "# Generate a bar plot showing number of data points for each treatment regimen using pyplot\n",
    "Treatment_Group = merge_table.groupby([\"Drug Regimen\"])\n",
    "Regimen_data = Treatment_Group[\"Mouse ID\"].count()\n",
    "\n",
    "Regimen_name = Regimen_data.index.values.tolist()\n",
    "Regimen_data = Regimen_data.tolist()\n",
    "\n",
    "x_axis = np.arange(len(Regimen_name))\n",
    "plt.figure(figsize=(10,5))\n",
    "plt.bar(x_axis, Regimen_data, alpha=1, align=\"center\", width = 0.5)\n",
    "tick_locations = [value for value in x_axis]\n",
    "plt.xticks(tick_locations, Regimen_name, rotation=\"vertical\")\n",
    "\n",
    "\n",
    "plt.xlim(-0.75, len(x_axis))\n",
    "plt.ylim(0, max(Regimen_data)+10)\n",
    "plt.title(\"Data Points for Each Regimen\")\n",
    "plt.xlabel(\"Drug Regimen\")\n",
    "plt.ylabel(\"Treaments Count\")\n",
    "plt.tight_layout()\n",
    "plt.savefig(\"../Images/Data_per_Regimen2.png\")\n",
    "plt.show()\n",
    "\n"
   ]
  },
  {
   "cell_type": "markdown",
   "metadata": {},
   "source": [
    "## Pie plots"
   ]
  },
  {
   "cell_type": "code",
   "execution_count": 9,
   "metadata": {},
   "outputs": [
    {
     "data": {
      "image/png": "[encoded data removed]",
      "text/plain": [
       "<Figure size 432x288 with 1 Axes>"
      ]
     },
     "metadata": {},
     "output_type": "display_data"
    },
    {
     "data": {
      "text/plain": [
       "<Figure size 432x288 with 0 Axes>"
      ]
     },
     "metadata": {},
     "output_type": "display_data"
    }
   ],
   "source": [
    "# Generate a pie plot showing the distribution of female versus male mice using pandas\n",
    "Sex_Group = mouse_metadata.groupby([\"Sex\"])\n",
    "Sex_data = Sex_Group[\"Mouse ID\"].count()\n",
    "\n",
    "label = Sex_data.index.values.tolist()\n",
    "Sex_pie = Sex_data.plot(kind=\"pie\", y=label,autopct=\"%1.1f%%\", title=(\"Female vs Male\"))\n",
    "Sex_pie.set_ylabel(\"Gender Distribution\")\n",
    "\n",
    "plt.savefig(\"../Images/Female vs Male1.png\")\n",
    "plt.show()\n",
    "plt.tight_layout()\n",
    "#plt.axis(\"equal\")\n"
   ]
  },
  {
   "cell_type": "code",
   "execution_count": 59,
   "metadata": {},
   "outputs": [
    {
     "data": {
      "image/png": "[encoded data removed]",
      "text/plain": [
       "<Figure size 432x288 with 1 Axes>"
      ]
     },
     "metadata": {},
     "output_type": "display_data"
    }
   ],
   "source": [
    "# Generate a pie plot showing the distribution of female versus male mice using pyplot\n",
    "Sex_Group = mouse_metadata.groupby([\"Sex\"])\n",
    "Sex_data = Sex_Group[\"Mouse ID\"].count()\n",
    "labels = Sex_data.index.values.tolist()\n",
    "Sex_data_list = Sex_data.tolist()\n",
    "\n",
    "\n",
    "sizes = Sex_data_list\n",
    "\n",
    "explode = (0, 0)\n",
    "\n",
    "plt.pie(sizes, explode=explode, labels=labels,autopct=\"%1.1f%%\", shadow=True, startangle=0)\n",
    "plt.axis(\"equal\")\n",
    "plt.title(\"Female vs Male\")\n",
    "plt.ylabel(\"Gender Distribution\")\n",
    "plt.savefig(\"../Images/Female vs Male2.png\")"
   ]
  },
  {
   "cell_type": "markdown",
   "metadata": {},
   "source": [
    "## Quartiles, outliers and boxplots"
   ]
  },
  {
   "cell_type": "code",
   "execution_count": 53,
   "metadata": {},
   "outputs": [
    {
     "name": "stdout",
     "output_type": "stream",
     "text": [
      "Capomulin\n",
      "---------------------------------------------------\n",
      "IQR is 7.781863460000004\n",
      "Values below 20.70456164999999 could be outliers.\n",
      "Values above 51.83201549 could be outliers.\n",
      "\n",
      "Ramicane\n",
      "---------------------------------------------------\n",
      "IQR is 9.098536719999998\n",
      "Values below 17.912664470000003 could be outliers.\n",
      "Values above 54.30681135 could be outliers.\n",
      "\n",
      "Infubinol\n",
      "---------------------------------------------------\n",
      "IQR is 11.477135160000003\n",
      "Values below 36.83290494999999 could be outliers.\n",
      "Values above 82.74144559000001 could be outliers.\n",
      "\n",
      "Ceftamin\n",
      "---------------------------------------------------\n",
      "IQR is 15.577752179999997\n",
      "Values below 25.355449580000002 could be outliers.\n",
      "Values above 87.66645829999999 could be outliers.\n"
     ]
    }
   ],
   "source": [
    "# Calculate the final tumor volume of each mouse across four of the most promising treatment regimens. \n",
    "#Calculate the IQR and quantitatively determine if there are any potential outliers. \n",
    "\n",
    "#Capomulin, Ramicane, Infubinol, and Ceftamin\n",
    "   \n",
    "treatment_filter = merge_table.loc[(merge_table[\"Drug Regimen\"]== \"Capomulin\"),:]\n",
    "time_sort = treatment_filter.sort_values(\"Timepoint\")\n",
    "group_mouse = time_sort.groupby([\"Mouse ID\"])\n",
    "last_tumor = group_mouse[\"Timepoint\",\"Tumor Volume (mm3)\"].last()\n",
    "tumor_volumedf = last_tumor[\"Tumor Volume (mm3)\"]\n",
    "tumor_volumedf = tumor_volumedf.sort_values()\n",
    "tumor_volumes = tumor_volumedf.tolist()\n",
    "\n",
    "quartiles = tumor_volumedf.quantile([.25,.5,.75])\n",
    "lowerq = quartiles[0.25]\n",
    "upperq = quartiles[0.75]\n",
    "iqr = upperq-lowerq\n",
    "\n",
    "lower_bound = lowerq - (1.5*iqr)\n",
    "upper_bound = upperq + (1.5*iqr)\n",
    "\n",
    "print(\"Capomulin\")\n",
    "print(\"---------------------------------------------------\")\n",
    "print(f\"IQR is {iqr}\")\n",
    "print(f\"Values below {lower_bound} could be outliers.\")\n",
    "print(f\"Values above {upper_bound} could be outliers.\")\n",
    "\n",
    "\n",
    "treatment_filter2 = merge_table.loc[(merge_table[\"Drug Regimen\"]== \"Ramicane\"),:]\n",
    "time_sort2 = treatment_filter2.sort_values(\"Timepoint\")\n",
    "group_mouse2 = time_sort2.groupby([\"Mouse ID\"])\n",
    "last_tumor2 = group_mouse2[\"Timepoint\",\"Tumor Volume (mm3)\"].last()\n",
    "tumor_volumes2df = last_tumor2[\"Tumor Volume (mm3)\"]\n",
    "tumor_volumes2df = tumor_volumes2df.sort_values()\n",
    "tumor_volumes2 = tumor_volumes2df.tolist()\n",
    "\n",
    "quartiles = tumor_volumes2df.quantile([.25,.5,.75])\n",
    "lowerq = quartiles[0.25]\n",
    "upperq = quartiles[0.75]\n",
    "iqr = upperq-lowerq\n",
    "\n",
    "lower_bound = lowerq - (1.5*iqr)\n",
    "upper_bound = upperq + (1.5*iqr)\n",
    "\n",
    "print()\n",
    "print(\"Ramicane\")\n",
    "print(\"---------------------------------------------------\")\n",
    "print(f\"IQR is {iqr}\")\n",
    "print(f\"Values below {lower_bound} could be outliers.\")\n",
    "print(f\"Values above {upper_bound} could be outliers.\")\n",
    "\n",
    "\n",
    "\n",
    "treatment_filter3 = merge_table.loc[(merge_table[\"Drug Regimen\"]== \"Infubinol\"),:]\n",
    "time_sort3 = treatment_filter3.sort_values(\"Timepoint\")\n",
    "group_mouse3 = time_sort3.groupby([\"Mouse ID\"])\n",
    "last_tumor3 = group_mouse3[\"Timepoint\",\"Tumor Volume (mm3)\"].last()\n",
    "tumor_volumes3df = last_tumor3[\"Tumor Volume (mm3)\"]\n",
    "tumor_volumes3df = tumor_volumes3df.sort_values()\n",
    "tumor_volumes3 = tumor_volumes3df.tolist()\n",
    "\n",
    "quartiles = tumor_volumes3df.quantile([.25,.5,.75])\n",
    "lowerq = quartiles[0.25]\n",
    "upperq = quartiles[0.75]\n",
    "iqr = upperq-lowerq\n",
    "\n",
    "lower_bound = lowerq - (1.5*iqr)\n",
    "upper_bound = upperq + (1.5*iqr)\n",
    "\n",
    "print()\n",
    "print(\"Infubinol\")\n",
    "print(\"---------------------------------------------------\")\n",
    "print(f\"IQR is {iqr}\")\n",
    "print(f\"Values below {lower_bound} could be outliers.\")\n",
    "print(f\"Values above {upper_bound} could be outliers.\")\n",
    "\n",
    "\n",
    "treatment_filter4 = merge_table.loc[(merge_table[\"Drug Regimen\"]== \"Ceftamin\"),:]\n",
    "time_sort4 = treatment_filter4.sort_values(\"Timepoint\")\n",
    "group_mouse4 = time_sort4.groupby([\"Mouse ID\"])\n",
    "last_tumor4 = group_mouse4[\"Timepoint\",\"Tumor Volume (mm3)\"].last()\n",
    "tumor_volumes4df = last_tumor4[\"Tumor Volume (mm3)\"]\n",
    "tumor_volumes4df = tumor_volumes4df.sort_values()\n",
    "tumor_volumes4 = tumor_volumes4df.tolist()\n",
    "\n",
    "quartiles = tumor_volumes4df.quantile([.25,.5,.75])\n",
    "lowerq = quartiles[0.25]\n",
    "upperq = quartiles[0.75]\n",
    "iqr = upperq-lowerq\n",
    "\n",
    "lower_bound = lowerq - (1.5*iqr)\n",
    "upper_bound = upperq + (1.5*iqr)\n",
    "\n",
    "print()\n",
    "print(\"Ceftamin\")\n",
    "print(\"---------------------------------------------------\")\n",
    "print(f\"IQR is {iqr}\")\n",
    "print(f\"Values below {lower_bound} could be outliers.\")\n",
    "print(f\"Values above {upper_bound} could be outliers.\")\n",
    "\n",
    "\n",
    "\n",
    "\n"
   ]
  },
  {
   "cell_type": "code",
   "execution_count": 54,
   "metadata": {},
   "outputs": [
    {
     "data": {
      "image/png": "[encoded data removed]",
      "text/plain": [
       "<Figure size 432x288 with 1 Axes>"
      ]
     },
     "metadata": {
      "needs_background": "light"
     },
     "output_type": "display_data"
    },
    {
     "data": {
      "text/plain": [
       "<Figure size 432x288 with 0 Axes>"
      ]
     },
     "metadata": {},
     "output_type": "display_data"
    }
   ],
   "source": [
    "# Generate a box plot of the final tumor volume of each mouse across four regimens of interest\n",
    "\n",
    "\n",
    "#fig1, ax1 = plt.subplots()\n",
    "#ax1.set_title('Final Tumor Volume for Capomulin')\n",
    "#ax1.set_ylabel('Tumor Volume (mm3)')\n",
    "#ax1.boxplot(tumor_volumes)\n",
    "#plt.show()\n",
    "\n",
    "\n",
    "#fig1, ax1 = plt.subplots()\n",
    "#ax1.set_title('Final Tumor Volume for Ramicane')\n",
    "#ax1.set_ylabel('Tumor Volume (mm3)')\n",
    "#ax1.boxplot(tumor_volumes2)\n",
    "#plt.show()\n",
    "\n",
    "\n",
    "#fig1, ax1 = plt.subplots()\n",
    "#ax1.set_title('Final Tumor Volume for Infubinol')\n",
    "#ax1.set_ylabel('Tumor Volume (mm3)')\n",
    "#ax1.boxplot(tumor_volumes3)\n",
    "#plt.show()\n",
    "\n",
    "\n",
    "#fig1, ax1 = plt.subplots()\n",
    "#ax1.set_title('Final Tumor Volume for Ceftamin')\n",
    "#ax1.set_ylabel('Tumor Volume (mm3)')\n",
    "#ax1.boxplot(tumor_volumes4)\n",
    "\n",
    "data = [tumor_volumes, tumor_volumes2, tumor_volumes4,tumor_volumes3]\n",
    "fig1, ax1 = plt.subplots()\n",
    "ax1.set_title('Final Tumor Volume')\n",
    "ax1.set_ylabel('Tumor Volume (mm3)')\n",
    "ax1.set_xlabel('Regimens of Interest')\n",
    "ax1.boxplot(data)\n",
    "ax1.set_xticklabels(['Capomulin','Ramicane','Ceftamin','Infubinol'])\n",
    "plt.show()\n",
    "\n",
    "plt.savefig(\"../Images/Final Tumor Volume.png\")\n"
   ]
  },
  {
   "cell_type": "markdown",
   "metadata": {},
   "source": [
    "## Line and scatter plots"
   ]
  },
  {
   "cell_type": "code",
   "execution_count": 55,
   "metadata": {},
   "outputs": [
    {
     "data": {
      "image/png": "[encoded data removed]",
      "text/plain": [
       "<Figure size 432x288 with 1 Axes>"
      ]
     },
     "metadata": {
      "needs_background": "light"
     },
     "output_type": "display_data"
    }
   ],
   "source": [
    "# Generate a line plot of time point versus tumor volume for a mouse treated with Capomulin\n",
    "\n",
    "#Capomulin_filter = merge_table.loc[(merge_table[\"Drug Regimen\"]==\"Capomulin\")|(merge_table[\"Mouse ID\"]==\"r157\"),:]\n",
    "\n",
    "Capomulin_filter = merge_table.loc[(merge_table[\"Drug Regimen\"]==\"Capomulin\"),:]\n",
    "Capomulin_filter = Capomulin_filter.loc[(merge_table[\"Mouse ID\"]==\"s185\"),:]\n",
    "\n",
    "Timepoint_list = Capomulin_filter[\"Timepoint\"]\n",
    "Tumor_Vol_list = Capomulin_filter[\"Tumor Volume (mm3)\"]\n",
    "\n",
    "\n",
    "# Each point on the sine chart is marked by a blue circle\n",
    "Volumeplot, = plt.plot(Timepoint_list, Tumor_Vol_list, marker ='o', color='blue', label=\"Tumor Volume\")\n",
    "# Adds a legend and sets its location to the lower right\n",
    "\n",
    "plt.title(\"Time Point vs Tumor Volume for Capomulin\")\n",
    "plt.xlabel(\"Time Point\")\n",
    "plt.ylabel(\"Tumor Volume (mm3)\")\n",
    "plt.legend(loc=\"lower right\")\n",
    "plt.savefig(\"../Images/lineplot.png\")\n",
    "plt.show()"
   ]
  },
  {
   "cell_type": "code",
   "execution_count": 56,
   "metadata": {},
   "outputs": [
    {
     "data": {
      "image/png": "[encoded data removed]",
      "text/plain": [
       "<Figure size 432x288 with 1 Axes>"
      ]
     },
     "metadata": {
      "needs_background": "light"
     },
     "output_type": "display_data"
    }
   ],
   "source": [
    "# Generate a scatter plot of mouse weight versus average tumor volume for the Capomulin regimen\n",
    "Capomulin_filter = merge_table.loc[(merge_table[\"Drug Regimen\"]==\"Capomulin\"),:]\n",
    "MouseID_group = Capomulin_filter.groupby([\"Mouse ID\"])\n",
    "\n",
    "Average_Tumor = MouseID_group[\"Tumor Volume (mm3)\"].mean()\n",
    "Weight_list = MouseID_group[\"Weight (g)\"].mean()\n",
    "\n",
    "\n",
    "plt.scatter(Weight_list, Average_Tumor, marker=\"o\", facecolors=\"red\", edgecolors=\"black\", s=Weight_list, alpha=0.75)\n",
    "\n",
    "plt.title(\"Mouse Weight vs Tumor Volume for Capomulin\")\n",
    "plt.xlabel(\"Weight (g)\")\n",
    "plt.ylabel(\"Tumor Volume (mm3)\")\n",
    "plt.savefig(\"../Images/scatter_plot.png\")"
   ]
  },
  {
   "cell_type": "code",
   "execution_count": 58,
   "metadata": {},
   "outputs": [
    {
     "name": "stdout",
     "output_type": "stream",
     "text": [
      "The correlation between both factors is 0.84\n"
     ]
    },
    {
     "data": {
      "image/png": "[encoded data removed]",
      "text/plain": [
       "<Figure size 432x288 with 1 Axes>"
      ]
     },
     "metadata": {
      "needs_background": "light"
     },
     "output_type": "display_data"
    },
    {
     "data": {
      "text/plain": [
       "<Figure size 432x288 with 0 Axes>"
      ]
     },
     "metadata": {},
     "output_type": "display_data"
    }
   ],
   "source": [
    "# Calculate the correlation coefficient and linear regression model for mouse weight and average tumor volume \n",
    "#for the Capomulin regimen\n",
    "\n",
    "correlation = st.pearsonr(Weight_list,Average_Tumor)\n",
    "print(f\"The correlation between both factors is {round(correlation[0],2)}\")\n",
    "\n",
    "\n",
    "x_values = Weight_list\n",
    "y_values = Average_Tumor\n",
    "(slope, intercept, rvalue, pvalue, stderr) = linregress(x_values, y_values)\n",
    "regress_values = x_values * slope + intercept\n",
    "line_eq = \"y = \" + str(round(slope,2)) + \"x + \" + str(round(intercept,2))\n",
    "plt.scatter(x_values,y_values)\n",
    "plt.plot(x_values,regress_values,\"r-\")\n",
    "plt.annotate(line_eq,(6,10),fontsize=15,color=\"red\")\n",
    "plt.title(\"Mouse Weight vs Tumor Volume for Capomulin\")\n",
    "plt.xlabel('Weight (g)')\n",
    "plt.ylabel('Tumor Volume (mm3)')\n",
    "plt.show()\n",
    "plt.savefig(\"../Images/linear_regression.png\")"
   ]
  },
  {
   "cell_type": "code",
   "execution_count": null,
   "metadata": {},
   "outputs": [],
   "source": []
  },
  {
   "cell_type": "code",
   "execution_count": null,
   "metadata": {},
   "outputs": [],
   "source": []
  }
 ],
 "metadata": {
  "anaconda-cloud": {},
  "kernelspec": {
   "display_name": "Python 3",
   "language": "python",
   "name": "python3"
  },
  "language_info": {
   "codemirror_mode": {
    "name": "ipython",
    "version": 3
   },
   "file_extension": ".py",
   "mimetype": "text/x-python",
   "name": "python",
   "nbconvert_exporter": "python",
   "pygments_lexer": "ipython3",
   "version": "3.7.4"
  }
 },
 "nbformat": 4,
 "nbformat_minor": 2
}
